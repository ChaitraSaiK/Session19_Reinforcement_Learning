{
 "cells": [
  {
   "cell_type": "code",
   "execution_count": 2,
   "metadata": {},
   "outputs": [],
   "source": [
    "import numpy as np"
   ]
  },
  {
   "cell_type": "code",
   "execution_count": 1,
   "metadata": {},
   "outputs": [],
   "source": [
    "# Grid size\n",
    "N = 4\n",
    "\n",
    "gamma = 1.0  # No discounting\n",
    "theta = 1e-4  # Convergence threshold\n",
    "rewards = -1  # Reward per move"
   ]
  },
  {
   "cell_type": "code",
   "execution_count": 5,
   "metadata": {},
   "outputs": [
    {
     "name": "stdout",
     "output_type": "stream",
     "text": [
      "[[0. 0. 0. 0.]\n",
      " [0. 0. 0. 0.]\n",
      " [0. 0. 0. 0.]\n",
      " [0. 0. 0. 0.]]\n"
     ]
    }
   ],
   "source": [
    "# Initialize value function\n",
    "V = np.zeros((N, N))\n",
    "print(V)"
   ]
  },
  {
   "cell_type": "code",
   "execution_count": 6,
   "metadata": {},
   "outputs": [],
   "source": [
    "# Define possible actions (up, down, left, right)\n",
    "actions = [(-1, 0), (1, 0), (0, -1), (0, 1)]"
   ]
  },
  {
   "cell_type": "code",
   "execution_count": 7,
   "metadata": {},
   "outputs": [],
   "source": [
    "# Value iteration\n",
    "while True:\n",
    "    delta = 0  # Track max change in values\n",
    "    V_new = np.copy(V)\n",
    "    \n",
    "    for i in range(N):\n",
    "        for j in range(N):\n",
    "            if (i, j) == (N-1, N-1):  # Skip terminal state\n",
    "                continue\n",
    "            \n",
    "            value = 0\n",
    "            for action in actions:\n",
    "                ni, nj = i + action[0], j + action[1]\n",
    "                \n",
    "                # Stay in place if hitting boundary\n",
    "                if ni < 0 or ni >= N or nj < 0 or nj >= N:\n",
    "                    ni, nj = i, j  \n",
    "                \n",
    "                value += 0.25 * (rewards + gamma * V[ni, nj])  # Equal probability\n",
    "                \n",
    "            V_new[i, j] = value\n",
    "            delta = max(delta, abs(V_new[i, j] - V[i, j]))\n",
    "    \n",
    "    V = V_new\n",
    "    if delta < theta:\n",
    "        break\n"
   ]
  },
  {
   "cell_type": "code",
   "execution_count": 8,
   "metadata": {},
   "outputs": [
    {
     "name": "stdout",
     "output_type": "stream",
     "text": [
      "[[-59.42368 -57.42387 -54.28131 -51.71013]\n",
      " [-57.42387 -54.56699 -49.71029 -45.13927]\n",
      " [-54.28131 -49.71029 -40.85392 -29.99767]\n",
      " [-51.71013 -45.13927 -29.99767   0.     ]]\n"
     ]
    }
   ],
   "source": [
    "# Print final value function\n",
    "print(np.round(V, 5))"
   ]
  },
  {
   "cell_type": "code",
   "execution_count": null,
   "metadata": {},
   "outputs": [],
   "source": []
  }
 ],
 "metadata": {
  "kernelspec": {
   "display_name": "venv",
   "language": "python",
   "name": "python3"
  },
  "language_info": {
   "codemirror_mode": {
    "name": "ipython",
    "version": 3
   },
   "file_extension": ".py",
   "mimetype": "text/x-python",
   "name": "python",
   "nbconvert_exporter": "python",
   "pygments_lexer": "ipython3",
   "version": "3.10.12"
  }
 },
 "nbformat": 4,
 "nbformat_minor": 2
}
